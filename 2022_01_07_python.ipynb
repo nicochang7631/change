{
  "nbformat": 4,
  "nbformat_minor": 0,
  "metadata": {
    "colab": {
      "name": "2022/01/07_python",
      "provenance": [],
      "authorship_tag": "ABX9TyM+FTgrrub/8gHWyf8F6OL9",
      "include_colab_link": true
    },
    "kernelspec": {
      "name": "python3",
      "display_name": "Python 3"
    },
    "language_info": {
      "name": "python"
    }
  },
  "cells": [
    {
      "cell_type": "markdown",
      "metadata": {
        "id": "view-in-github",
        "colab_type": "text"
      },
      "source": [
        "<a href=\"https://colab.research.google.com/github/nicochang7631/change/blob/main/2022_01_07_python.ipynb\" target=\"_parent\"><img src=\"https://colab.research.google.com/assets/colab-badge.svg\" alt=\"Open In Colab\"/></a>"
      ]
    },
    {
      "cell_type": "code",
      "execution_count": 3,
      "metadata": {
        "colab": {
          "base_uri": "https://localhost:8080/"
        },
        "id": "b_AesbKV37-w",
        "outputId": "1c9aadb2-10eb-4529-e4df-b2a6c653729a"
      },
      "outputs": [
        {
          "output_type": "execute_result",
          "data": {
            "text/plain": [
              "[64.4, 35.6, 41.0, 53.6]"
            ]
          },
          "metadata": {},
          "execution_count": 3
        }
      ],
      "source": [
        "def get_fahrehits(*args):\n",
        "  fahrehits = []\n",
        "  for i in args:\n",
        "    f = i * 9/5 +32\n",
        "    fahrehits.append(f)\n",
        "  return fahrehits\n",
        "\n",
        "get_fahrehits(18,2,5,12)"
      ]
    },
    {
      "cell_type": "code",
      "source": [
        "#use zip\n",
        "release_years = [2012, 2015, 2018, 2019]\n",
        "the_avenger_movies = [\"The Avengers\", \"Avengers: Age of Ultron\", \"Avengers: Infinity War\", \"Avengers: Endgame\"]\n",
        "for y, movie in zip(release_years, the_avenger_movies):\n",
        "    print(\"{} 上映年份 {}\".format(movie, y))"
      ],
      "metadata": {
        "colab": {
          "base_uri": "https://localhost:8080/"
        },
        "id": "jF25g9jHDiYW",
        "outputId": "7d82e89a-8b8e-484d-c003-30f00c4f88b2"
      },
      "execution_count": 6,
      "outputs": [
        {
          "output_type": "stream",
          "name": "stdout",
          "text": [
            "The Avengers 上映年份 2012\n",
            "Avengers: Age of Ultron 上映年份 2015\n",
            "Avengers: Infinity War 上映年份 2018\n",
            "Avengers: Endgame 上映年份 2019\n"
          ]
        }
      ]
    },
    {
      "cell_type": "code",
      "source": [
        "#use zip + enumeate\n",
        "years = [1995,1996,1997,1998]\n",
        "name = ['Nico','Harper','Chris','Kisy']\n",
        "\n",
        "for i,(y,n) in enumerate(zip(years,name)):\n",
        "  print(\"{} {},出生於 {}\".format(i,n,y))"
      ],
      "metadata": {
        "colab": {
          "base_uri": "https://localhost:8080/"
        },
        "id": "0obpovF6CGUh",
        "outputId": "87b22776-b27f-41c4-d3f5-dde55f5e5c90"
      },
      "execution_count": 14,
      "outputs": [
        {
          "output_type": "stream",
          "name": "stdout",
          "text": [
            "0 Nico,出生於 1995\n",
            "1 Harper,出生於 1996\n",
            "2 Chris,出生於 1997\n",
            "3 Kisy,出生於 1998\n"
          ]
        }
      ]
    },
    {
      "cell_type": "code",
      "source": [
        "# list comprehension\n",
        "\n",
        "is_even_number = [True if i % 2 == 0 else False for i in range(10)]\n",
        "print(is_even_number)"
      ],
      "metadata": {
        "colab": {
          "base_uri": "https://localhost:8080/"
        },
        "id": "yEhgQKv7GMsV",
        "outputId": "629c7182-77e3-4090-9f0e-2192d14d2857"
      },
      "execution_count": 16,
      "outputs": [
        {
          "output_type": "stream",
          "name": "stdout",
          "text": [
            "[True, False, True, False, True, False, True, False, True, False]\n"
          ]
        }
      ]
    },
    {
      "cell_type": "code",
      "source": [
        "kilometers = [1.6, 3, 5, 10, 21.095, 42.195]\n",
        "mile = [i*0.62137 for i in kilometers ]\n",
        "print(mile)"
      ],
      "metadata": {
        "colab": {
          "base_uri": "https://localhost:8080/"
        },
        "id": "ec4uGU3YIB0L",
        "outputId": "cf2120ca-742b-4419-e603-c86a7522b0f6"
      },
      "execution_count": 18,
      "outputs": [
        {
          "output_type": "stream",
          "name": "stdout",
          "text": [
            "[0.994192, 1.86411, 3.1068499999999997, 6.213699999999999, 13.10780015, 26.21870715]\n"
          ]
        }
      ]
    }
  ]
}